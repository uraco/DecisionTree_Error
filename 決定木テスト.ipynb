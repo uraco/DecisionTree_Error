{
 "cells": [
  {
   "cell_type": "code",
   "execution_count": 1,
   "metadata": {
    "collapsed": true
   },
   "outputs": [],
   "source": [
    "def _entropy(self, target, n_classes, n_samples):\n",
    "    entropy = 0.0\n",
    "\n",
    "    for c in n_classes:\n",
    "        p = float(len(target[target==c])) / n_samples\n",
    "        if p > 0.0:\n",
    "            entropy -= p * np.log2(p)\n",
    "    return entropy"
   ]
  },
  {
   "cell_type": "code",
   "execution_count": 2,
   "metadata": {
    "collapsed": true
   },
   "outputs": [],
   "source": [
    "def _gini(self, target, n_classes, n_samples):\n",
    "    gini_index = 1.0\n",
    "    gini_index -= sum([(len(target[target==c]) / n_samples) ** 2.0 for c in n_classes])\n",
    "    return gini_index"
   ]
  },
  {
   "cell_type": "code",
   "execution_count": 3,
   "metadata": {
    "collapsed": true
   },
   "outputs": [],
   "source": [
    "def _error(self, target, n_classes, n_samples):\n",
    "    return 1.0 - max([len(target[target==c]) / n_samples for c in n_classes])"
   ]
  },
  {
   "cell_type": "code",
   "execution_count": 4,
   "metadata": {
    "collapsed": true
   },
   "outputs": [],
   "source": [
    "from sklearn.tree import DecisionTreeClassifier\n",
    "from sklearn.datasets import load_iris\n",
    "from sklearn.externals.six import StringIO\n",
    "from sklearn.tree import export_graphviz"
   ]
  },
  {
   "cell_type": "code",
   "execution_count": 5,
   "metadata": {
    "collapsed": true
   },
   "outputs": [],
   "source": [
    "def save_tree(tree):\n",
    "    dot_data = StringIO()\n",
    "    export_graphviz(tree, out_file='tree.dot',\n",
    "        feature_names=[\"Sepal.Length\", \"Sepal.Width\", \"Petal.Length\", \"Petal.Width\"])\n",
    "\n",
    "if __name__ == \"__main__\":\n",
    "    iris = load_iris()\n",
    "\n",
    "    dt = DecisionTreeClassifier(max_depth=3)\n",
    "    dt = dt.fit(iris.data, iris.target)\n",
    "\n",
    "    save_tree(dt)    "
   ]
  },
  {
   "cell_type": "code",
   "execution_count": 11,
   "metadata": {
    "collapsed": false
   },
   "outputs": [
    {
     "ename": "SyntaxError",
     "evalue": "invalid syntax (<ipython-input-11-379d72996ccf>, line 1)",
     "output_type": "error",
     "traceback": [
      "\u001b[0;36m  File \u001b[0;32m\"<ipython-input-11-379d72996ccf>\"\u001b[0;36m, line \u001b[0;32m1\u001b[0m\n\u001b[0;31m    dot -T pdf tree.dot -o tree.pdf\u001b[0m\n\u001b[0m             ^\u001b[0m\n\u001b[0;31mSyntaxError\u001b[0m\u001b[0;31m:\u001b[0m invalid syntax\n"
     ]
    }
   ],
   "source": [
    "dot -T pdf tree.dot -o tree.pdf "
   ]
  },
  {
   "cell_type": "code",
   "execution_count": null,
   "metadata": {
    "collapsed": true
   },
   "outputs": [],
   "source": []
  }
 ],
 "metadata": {
  "kernelspec": {
   "display_name": "Python 3",
   "language": "python",
   "name": "python3"
  },
  "language_info": {
   "codemirror_mode": {
    "name": "ipython",
    "version": 3
   },
   "file_extension": ".py",
   "mimetype": "text/x-python",
   "name": "python",
   "nbconvert_exporter": "python",
   "pygments_lexer": "ipython3",
   "version": "3.5.2"
  }
 },
 "nbformat": 4,
 "nbformat_minor": 1
}
