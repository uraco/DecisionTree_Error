{
 "cells": [
  {
   "cell_type": "code",
   "execution_count": 1,
   "metadata": {
    "collapsed": false
   },
   "outputs": [
    {
     "name": "stderr",
     "output_type": "stream",
     "text": [
      "C:\\Program Files\\Anaconda3\\lib\\site-packages\\IPython\\html.py:14: ShimWarning: The `IPython.html` package has been deprecated. You should import from `notebook` instead. `IPython.html.widgets` has moved to `ipywidgets`.\n",
      "  \"`IPython.html.widgets` has moved to `ipywidgets`.\", ShimWarning)\n"
     ]
    }
   ],
   "source": [
    "import numpy as np  \n",
    "import pandas as pd  \n",
    "from pandas import DataFrame, Series  \n",
    "from sklearn.datasets import make_blobs  \n",
    "import seaborn as sns"
   ]
  },
  {
   "cell_type": "code",
   "execution_count": 2,
   "metadata": {
    "collapsed": true
   },
   "outputs": [],
   "source": [
    "X, y = make_blobs(  \n",
    "    n_samples=1000,  # サンプル数\n",
    "    n_features=2,    # 各サンプルの説明変数の数\n",
    "    centers=4,       # 離散データのグループ数\n",
    "    cluster_std=1.5, # 離散データのバラけ具合\n",
    "    random_state=4)  # 呼ぶたびにseedを変えずに固定"
   ]
  },
  {
   "cell_type": "code",
   "execution_count": 3,
   "metadata": {
    "collapsed": false
   },
   "outputs": [
    {
     "data": {
      "text/plain": [
       "(1000, 1000)"
      ]
     },
     "execution_count": 3,
     "metadata": {},
     "output_type": "execute_result"
    }
   ],
   "source": [
    "len(X), len(y) "
   ]
  },
  {
   "cell_type": "code",
   "execution_count": 4,
   "metadata": {
    "collapsed": false
   },
   "outputs": [
    {
     "data": {
      "text/plain": [
       "array([[  8.34658867, -10.31879835],\n",
       "       [  8.53921758,   5.79103131],\n",
       "       [  9.28263663,   4.70668557],\n",
       "       ..., \n",
       "       [  9.98784011,  -8.66323273],\n",
       "       [  9.7863086 ,  -0.49802022],\n",
       "       [  8.5105375 ,   1.74524764]])"
      ]
     },
     "execution_count": 4,
     "metadata": {},
     "output_type": "execute_result"
    }
   ],
   "source": [
    "X"
   ]
  },
  {
   "cell_type": "code",
   "execution_count": 5,
   "metadata": {
    "collapsed": false
   },
   "outputs": [
    {
     "data": {
      "text/plain": [
       "array([3, 1, 1, 3, 1, 3, 1, 1, 0, 1, 1, 2, 1, 2, 0, 0, 1, 2, 3, 1, 1, 2, 3,\n",
       "       1, 2, 1, 0, 1, 2, 2, 0, 1, 1, 1, 2, 2, 3, 2, 2, 2, 0, 2, 3, 1, 2, 0,\n",
       "       2, 1, 3, 1, 3, 0, 3, 0, 1, 1, 0, 0, 1, 0, 1, 0, 1, 3, 3, 0, 0, 3, 1,\n",
       "       3, 2, 3, 3, 2, 0, 1, 2, 3, 3, 0, 3, 3, 1, 1, 2, 0, 1, 3, 1, 0, 2, 2,\n",
       "       3, 3, 3, 3, 0, 3, 0, 3, 0, 2, 0, 2, 1, 3, 2, 1, 0, 0, 2, 2, 1, 2, 3,\n",
       "       0, 2, 0, 0, 2, 3, 0, 2, 3, 2, 1, 1, 3, 0, 3, 0, 3, 0, 0, 1, 2, 2, 2,\n",
       "       1, 0, 3, 3, 1, 0, 2, 0, 0, 1, 1, 0, 1, 3, 0, 0, 2, 0, 2, 1, 1, 3, 0,\n",
       "       2, 2, 1, 3, 1, 1, 0, 1, 2, 1, 1, 1, 1, 0, 3, 3, 1, 1, 3, 3, 1, 1, 1,\n",
       "       2, 1, 3, 2, 2, 3, 1, 0, 3, 1, 2, 3, 3, 1, 2, 0, 2, 3, 0, 2, 3, 1, 1,\n",
       "       0, 0, 0, 3, 1, 3, 2, 1, 0, 3, 3, 2, 2, 0, 2, 1, 0, 3, 2, 3, 2, 1, 0,\n",
       "       1, 0, 3, 2, 1, 0, 2, 0, 0, 0, 2, 3, 3, 3, 1, 1, 2, 3, 0, 3, 0, 0, 3,\n",
       "       0, 0, 2, 1, 3, 0, 1, 3, 1, 2, 0, 0, 2, 2, 3, 0, 0, 2, 0, 3, 2, 1, 1,\n",
       "       1, 0, 0, 0, 2, 2, 1, 2, 2, 1, 1, 2, 3, 2, 2, 2, 2, 2, 3, 3, 3, 2, 3,\n",
       "       2, 0, 1, 1, 1, 3, 3, 0, 2, 2, 1, 3, 1, 1, 1, 0, 1, 1, 2, 1, 2, 3, 0,\n",
       "       2, 1, 0, 2, 0, 0, 3, 0, 3, 2, 3, 2, 0, 0, 3, 0, 0, 2, 0, 2, 0, 3, 1,\n",
       "       0, 2, 2, 0, 3, 2, 1, 2, 1, 3, 0, 2, 2, 2, 0, 3, 0, 0, 0, 1, 1, 1, 0,\n",
       "       0, 3, 2, 2, 2, 0, 3, 3, 3, 2, 3, 0, 0, 3, 2, 3, 1, 0, 1, 0, 3, 3, 2,\n",
       "       3, 2, 3, 2, 0, 0, 0, 1, 3, 3, 0, 1, 3, 0, 3, 1, 2, 0, 1, 1, 0, 2, 2,\n",
       "       0, 0, 1, 2, 3, 1, 2, 1, 1, 1, 3, 2, 2, 0, 2, 2, 3, 2, 3, 0, 2, 0, 0,\n",
       "       0, 1, 2, 3, 2, 3, 1, 2, 1, 1, 1, 2, 0, 0, 1, 2, 1, 1, 1, 0, 2, 2, 0,\n",
       "       1, 0, 3, 3, 3, 3, 1, 1, 1, 0, 1, 2, 0, 1, 2, 3, 2, 3, 0, 0, 3, 0, 0,\n",
       "       3, 0, 3, 3, 0, 0, 2, 2, 1, 2, 3, 1, 3, 0, 0, 2, 3, 2, 2, 2, 0, 2, 3,\n",
       "       3, 3, 1, 1, 3, 1, 0, 1, 0, 0, 0, 3, 2, 2, 3, 0, 0, 1, 1, 1, 1, 3, 1,\n",
       "       2, 2, 2, 3, 2, 2, 3, 0, 0, 3, 1, 0, 2, 0, 0, 0, 3, 0, 3, 1, 2, 1, 0,\n",
       "       1, 2, 2, 2, 1, 1, 1, 2, 2, 2, 3, 2, 1, 2, 1, 2, 1, 2, 3, 1, 0, 2, 3,\n",
       "       3, 3, 1, 0, 2, 0, 1, 0, 3, 2, 1, 1, 1, 0, 3, 1, 2, 0, 0, 2, 0, 2, 1,\n",
       "       3, 3, 0, 3, 3, 0, 2, 3, 0, 3, 1, 0, 0, 1, 2, 2, 2, 2, 0, 1, 3, 3, 2,\n",
       "       2, 1, 0, 3, 1, 1, 3, 3, 2, 1, 1, 2, 1, 0, 1, 2, 3, 0, 3, 2, 3, 3, 0,\n",
       "       2, 2, 3, 3, 0, 0, 2, 3, 0, 3, 3, 3, 1, 3, 0, 0, 2, 0, 3, 2, 2, 3, 3,\n",
       "       1, 2, 1, 2, 3, 2, 2, 0, 1, 1, 1, 1, 0, 1, 0, 3, 0, 2, 3, 2, 0, 0, 2,\n",
       "       1, 2, 3, 0, 3, 0, 2, 1, 0, 2, 2, 3, 1, 2, 0, 0, 1, 3, 2, 2, 0, 0, 1,\n",
       "       0, 3, 1, 2, 2, 3, 1, 1, 1, 2, 2, 3, 0, 1, 0, 1, 2, 2, 1, 3, 0, 2, 0,\n",
       "       0, 1, 2, 3, 1, 2, 1, 0, 0, 3, 1, 3, 0, 3, 2, 0, 3, 2, 1, 0, 1, 1, 3,\n",
       "       2, 3, 3, 3, 0, 1, 0, 2, 0, 3, 2, 0, 3, 1, 0, 3, 2, 2, 1, 3, 1, 0, 2,\n",
       "       1, 2, 0, 3, 0, 3, 3, 0, 3, 0, 0, 3, 2, 2, 3, 1, 3, 2, 1, 1, 3, 1, 3,\n",
       "       2, 1, 0, 3, 1, 2, 0, 0, 1, 1, 0, 2, 2, 3, 3, 3, 0, 3, 0, 2, 0, 1, 0,\n",
       "       1, 2, 1, 3, 1, 0, 1, 3, 3, 1, 1, 1, 2, 2, 3, 3, 2, 2, 2, 1, 0, 1, 3,\n",
       "       1, 3, 2, 0, 3, 3, 2, 2, 3, 2, 0, 1, 3, 3, 1, 0, 0, 3, 1, 3, 2, 1, 2,\n",
       "       1, 1, 0, 1, 1, 0, 0, 3, 3, 2, 1, 3, 1, 2, 2, 3, 2, 1, 2, 2, 3, 3, 0,\n",
       "       0, 2, 0, 3, 3, 3, 3, 1, 0, 3, 2, 2, 1, 2, 1, 2, 3, 0, 0, 2, 2, 0, 1,\n",
       "       2, 1, 1, 1, 1, 3, 0, 1, 1, 1, 1, 1, 3, 3, 3, 2, 2, 0, 1, 1, 1, 2, 2,\n",
       "       2, 3, 2, 3, 0, 0, 3, 2, 3, 2, 3, 2, 3, 3, 0, 3, 2, 2, 0, 1, 3, 0, 1,\n",
       "       0, 0, 0, 1, 1, 3, 1, 0, 0, 3, 0, 0, 3, 1, 3, 3, 0, 0, 3, 1, 3, 0, 1,\n",
       "       2, 0, 0, 3, 3, 1, 3, 2, 3, 0, 0])"
      ]
     },
     "execution_count": 5,
     "metadata": {},
     "output_type": "execute_result"
    }
   ],
   "source": [
    "y"
   ]
  },
  {
   "cell_type": "code",
   "execution_count": 7,
   "metadata": {
    "collapsed": false
   },
   "outputs": [
    {
     "data": {
      "text/plain": [
       "<seaborn.axisgrid.FacetGrid at 0xbcc2f28>"
      ]
     },
     "execution_count": 7,
     "metadata": {},
     "output_type": "execute_result"
    },
    {
     "data": {
      "image/png": "[encoded data removed]",
      "text/plain": [
       "<matplotlib.figure.Figure at 0xb842dd8>"
      ]
     },
     "metadata": {},
     "output_type": "display_data"
    }
   ],
   "source": [
    "df = pd.concat(  \n",
    "    [\n",
    "        DataFrame(X, columns=[\"X0\",\"X1\"]),\n",
    "        DataFrame(y, columns=[\"target\",])\n",
    "    ], axis=1)\n",
    "\n",
    "%matplotlib inline\n",
    "sns.lmplot(\"X0\",\"X1\",data=df,hue=\"target\",fit_reg=False) "
   ]
  },
  {
   "cell_type": "code",
   "execution_count": 8,
   "metadata": {
    "collapsed": true
   },
   "outputs": [],
   "source": [
    "x0_lim = X[:,0].min(), X[:,0].max()  \n",
    "x1_lim = X[:,1].min(), X[:,1].max()  "
   ]
  },
  {
   "cell_type": "code",
   "execution_count": 9,
   "metadata": {
    "collapsed": true
   },
   "outputs": [],
   "source": [
    "x0, x1 = np.meshgrid(  \n",
    "    np.linspace(*x0_lim, 20),\n",
    "    np.linspace(*x1_lim, 20))"
   ]
  },
  {
   "cell_type": "code",
   "execution_count": 10,
   "metadata": {
    "collapsed": false
   },
   "outputs": [
    {
     "data": {
      "text/plain": [
       "(0.45642813876023558, 13.585891473268598)"
      ]
     },
     "execution_count": 10,
     "metadata": {},
     "output_type": "execute_result"
    }
   ],
   "source": [
    "x0_lim "
   ]
  },
  {
   "cell_type": "code",
   "execution_count": 11,
   "metadata": {
    "collapsed": false
   },
   "outputs": [
    {
     "data": {
      "text/plain": [
       "(20, 20)"
      ]
     },
     "execution_count": 11,
     "metadata": {},
     "output_type": "execute_result"
    }
   ],
   "source": [
    "x0.shape"
   ]
  },
  {
   "cell_type": "code",
   "execution_count": 12,
   "metadata": {
    "collapsed": false
   },
   "outputs": [
    {
     "data": {
      "text/plain": [
       "array([[  0.45642814,   1.14745252,   1.83847691,   2.5295013 ,\n",
       "          3.22052568,   3.91155007,   4.60257445,   5.29359884,\n",
       "          5.98462323,   6.67564761,   7.366672  ,   8.05769639,\n",
       "          8.74872077,   9.43974516,  10.13076954,  10.82179393,\n",
       "         11.51281832,  12.2038427 ,  12.89486709,  13.58589147],\n",
       "       [  0.45642814,   1.14745252,   1.83847691,   2.5295013 ,\n",
       "          3.22052568,   3.91155007,   4.60257445,   5.29359884,\n",
       "          5.98462323,   6.67564761,   7.366672  ,   8.05769639,\n",
       "          8.74872077,   9.43974516,  10.13076954,  10.82179393,\n",
       "         11.51281832,  12.2038427 ,  12.89486709,  13.58589147],\n",
       "       [  0.45642814,   1.14745252,   1.83847691,   2.5295013 ,\n",
       "          3.22052568,   3.91155007,   4.60257445,   5.29359884,\n",
       "          5.98462323,   6.67564761,   7.366672  ,   8.05769639,\n",
       "          8.74872077,   9.43974516,  10.13076954,  10.82179393,\n",
       "         11.51281832,  12.2038427 ,  12.89486709,  13.58589147],\n",
       "       [  0.45642814,   1.14745252,   1.83847691,   2.5295013 ,\n",
       "          3.22052568,   3.91155007,   4.60257445,   5.29359884,\n",
       "          5.98462323,   6.67564761,   7.366672  ,   8.05769639,\n",
       "          8.74872077,   9.43974516,  10.13076954,  10.82179393,\n",
       "         11.51281832,  12.2038427 ,  12.89486709,  13.58589147],\n",
       "       [  0.45642814,   1.14745252,   1.83847691,   2.5295013 ,\n",
       "          3.22052568,   3.91155007,   4.60257445,   5.29359884,\n",
       "          5.98462323,   6.67564761,   7.366672  ,   8.05769639,\n",
       "          8.74872077,   9.43974516,  10.13076954,  10.82179393,\n",
       "         11.51281832,  12.2038427 ,  12.89486709,  13.58589147],\n",
       "       [  0.45642814,   1.14745252,   1.83847691,   2.5295013 ,\n",
       "          3.22052568,   3.91155007,   4.60257445,   5.29359884,\n",
       "          5.98462323,   6.67564761,   7.366672  ,   8.05769639,\n",
       "          8.74872077,   9.43974516,  10.13076954,  10.82179393,\n",
       "         11.51281832,  12.2038427 ,  12.89486709,  13.58589147],\n",
       "       [  0.45642814,   1.14745252,   1.83847691,   2.5295013 ,\n",
       "          3.22052568,   3.91155007,   4.60257445,   5.29359884,\n",
       "          5.98462323,   6.67564761,   7.366672  ,   8.05769639,\n",
       "          8.74872077,   9.43974516,  10.13076954,  10.82179393,\n",
       "         11.51281832,  12.2038427 ,  12.89486709,  13.58589147],\n",
       "       [  0.45642814,   1.14745252,   1.83847691,   2.5295013 ,\n",
       "          3.22052568,   3.91155007,   4.60257445,   5.29359884,\n",
       "          5.98462323,   6.67564761,   7.366672  ,   8.05769639,\n",
       "          8.74872077,   9.43974516,  10.13076954,  10.82179393,\n",
       "         11.51281832,  12.2038427 ,  12.89486709,  13.58589147],\n",
       "       [  0.45642814,   1.14745252,   1.83847691,   2.5295013 ,\n",
       "          3.22052568,   3.91155007,   4.60257445,   5.29359884,\n",
       "          5.98462323,   6.67564761,   7.366672  ,   8.05769639,\n",
       "          8.74872077,   9.43974516,  10.13076954,  10.82179393,\n",
       "         11.51281832,  12.2038427 ,  12.89486709,  13.58589147],\n",
       "       [  0.45642814,   1.14745252,   1.83847691,   2.5295013 ,\n",
       "          3.22052568,   3.91155007,   4.60257445,   5.29359884,\n",
       "          5.98462323,   6.67564761,   7.366672  ,   8.05769639,\n",
       "          8.74872077,   9.43974516,  10.13076954,  10.82179393,\n",
       "         11.51281832,  12.2038427 ,  12.89486709,  13.58589147],\n",
       "       [  0.45642814,   1.14745252,   1.83847691,   2.5295013 ,\n",
       "          3.22052568,   3.91155007,   4.60257445,   5.29359884,\n",
       "          5.98462323,   6.67564761,   7.366672  ,   8.05769639,\n",
       "          8.74872077,   9.43974516,  10.13076954,  10.82179393,\n",
       "         11.51281832,  12.2038427 ,  12.89486709,  13.58589147],\n",
       "       [  0.45642814,   1.14745252,   1.83847691,   2.5295013 ,\n",
       "          3.22052568,   3.91155007,   4.60257445,   5.29359884,\n",
       "          5.98462323,   6.67564761,   7.366672  ,   8.05769639,\n",
       "          8.74872077,   9.43974516,  10.13076954,  10.82179393,\n",
       "         11.51281832,  12.2038427 ,  12.89486709,  13.58589147],\n",
       "       [  0.45642814,   1.14745252,   1.83847691,   2.5295013 ,\n",
       "          3.22052568,   3.91155007,   4.60257445,   5.29359884,\n",
       "          5.98462323,   6.67564761,   7.366672  ,   8.05769639,\n",
       "          8.74872077,   9.43974516,  10.13076954,  10.82179393,\n",
       "         11.51281832,  12.2038427 ,  12.89486709,  13.58589147],\n",
       "       [  0.45642814,   1.14745252,   1.83847691,   2.5295013 ,\n",
       "          3.22052568,   3.91155007,   4.60257445,   5.29359884,\n",
       "          5.98462323,   6.67564761,   7.366672  ,   8.05769639,\n",
       "          8.74872077,   9.43974516,  10.13076954,  10.82179393,\n",
       "         11.51281832,  12.2038427 ,  12.89486709,  13.58589147],\n",
       "       [  0.45642814,   1.14745252,   1.83847691,   2.5295013 ,\n",
       "          3.22052568,   3.91155007,   4.60257445,   5.29359884,\n",
       "          5.98462323,   6.67564761,   7.366672  ,   8.05769639,\n",
       "          8.74872077,   9.43974516,  10.13076954,  10.82179393,\n",
       "         11.51281832,  12.2038427 ,  12.89486709,  13.58589147],\n",
       "       [  0.45642814,   1.14745252,   1.83847691,   2.5295013 ,\n",
       "          3.22052568,   3.91155007,   4.60257445,   5.29359884,\n",
       "          5.98462323,   6.67564761,   7.366672  ,   8.05769639,\n",
       "          8.74872077,   9.43974516,  10.13076954,  10.82179393,\n",
       "         11.51281832,  12.2038427 ,  12.89486709,  13.58589147],\n",
       "       [  0.45642814,   1.14745252,   1.83847691,   2.5295013 ,\n",
       "          3.22052568,   3.91155007,   4.60257445,   5.29359884,\n",
       "          5.98462323,   6.67564761,   7.366672  ,   8.05769639,\n",
       "          8.74872077,   9.43974516,  10.13076954,  10.82179393,\n",
       "         11.51281832,  12.2038427 ,  12.89486709,  13.58589147],\n",
       "       [  0.45642814,   1.14745252,   1.83847691,   2.5295013 ,\n",
       "          3.22052568,   3.91155007,   4.60257445,   5.29359884,\n",
       "          5.98462323,   6.67564761,   7.366672  ,   8.05769639,\n",
       "          8.74872077,   9.43974516,  10.13076954,  10.82179393,\n",
       "         11.51281832,  12.2038427 ,  12.89486709,  13.58589147],\n",
       "       [  0.45642814,   1.14745252,   1.83847691,   2.5295013 ,\n",
       "          3.22052568,   3.91155007,   4.60257445,   5.29359884,\n",
       "          5.98462323,   6.67564761,   7.366672  ,   8.05769639,\n",
       "          8.74872077,   9.43974516,  10.13076954,  10.82179393,\n",
       "         11.51281832,  12.2038427 ,  12.89486709,  13.58589147],\n",
       "       [  0.45642814,   1.14745252,   1.83847691,   2.5295013 ,\n",
       "          3.22052568,   3.91155007,   4.60257445,   5.29359884,\n",
       "          5.98462323,   6.67564761,   7.366672  ,   8.05769639,\n",
       "          8.74872077,   9.43974516,  10.13076954,  10.82179393,\n",
       "         11.51281832,  12.2038427 ,  12.89486709,  13.58589147]])"
      ]
     },
     "execution_count": 12,
     "metadata": {},
     "output_type": "execute_result"
    }
   ],
   "source": [
    "x0"
   ]
  },
  {
   "cell_type": "code",
   "execution_count": 13,
   "metadata": {
    "collapsed": false
   },
   "outputs": [
    {
     "data": {
      "text/plain": [
       "(-13.62745125180961, 7.6188184836933468)"
      ]
     },
     "execution_count": 13,
     "metadata": {},
     "output_type": "execute_result"
    }
   ],
   "source": [
    "x1_lim"
   ]
  },
  {
   "cell_type": "code",
   "execution_count": 14,
   "metadata": {
    "collapsed": false
   },
   "outputs": [
    {
     "data": {
      "text/plain": [
       "(20, 20)"
      ]
     },
     "execution_count": 14,
     "metadata": {},
     "output_type": "execute_result"
    }
   ],
   "source": [
    "x1.shape"
   ]
  },
  {
   "cell_type": "code",
   "execution_count": 15,
   "metadata": {
    "collapsed": false
   },
   "outputs": [
    {
     "data": {
      "text/plain": [
       "array([[-13.62745125, -13.62745125, -13.62745125, -13.62745125,\n",
       "        -13.62745125, -13.62745125, -13.62745125, -13.62745125,\n",
       "        -13.62745125, -13.62745125, -13.62745125, -13.62745125,\n",
       "        -13.62745125, -13.62745125, -13.62745125, -13.62745125,\n",
       "        -13.62745125, -13.62745125, -13.62745125, -13.62745125],\n",
       "       [-12.50922653, -12.50922653, -12.50922653, -12.50922653,\n",
       "        -12.50922653, -12.50922653, -12.50922653, -12.50922653,\n",
       "        -12.50922653, -12.50922653, -12.50922653, -12.50922653,\n",
       "        -12.50922653, -12.50922653, -12.50922653, -12.50922653,\n",
       "        -12.50922653, -12.50922653, -12.50922653, -12.50922653],\n",
       "       [-11.39100181, -11.39100181, -11.39100181, -11.39100181,\n",
       "        -11.39100181, -11.39100181, -11.39100181, -11.39100181,\n",
       "        -11.39100181, -11.39100181, -11.39100181, -11.39100181,\n",
       "        -11.39100181, -11.39100181, -11.39100181, -11.39100181,\n",
       "        -11.39100181, -11.39100181, -11.39100181, -11.39100181],\n",
       "       [-10.27277708, -10.27277708, -10.27277708, -10.27277708,\n",
       "        -10.27277708, -10.27277708, -10.27277708, -10.27277708,\n",
       "        -10.27277708, -10.27277708, -10.27277708, -10.27277708,\n",
       "        -10.27277708, -10.27277708, -10.27277708, -10.27277708,\n",
       "        -10.27277708, -10.27277708, -10.27277708, -10.27277708],\n",
       "       [ -9.15455236,  -9.15455236,  -9.15455236,  -9.15455236,\n",
       "         -9.15455236,  -9.15455236,  -9.15455236,  -9.15455236,\n",
       "         -9.15455236,  -9.15455236,  -9.15455236,  -9.15455236,\n",
       "         -9.15455236,  -9.15455236,  -9.15455236,  -9.15455236,\n",
       "         -9.15455236,  -9.15455236,  -9.15455236,  -9.15455236],\n",
       "       [ -8.03632764,  -8.03632764,  -8.03632764,  -8.03632764,\n",
       "         -8.03632764,  -8.03632764,  -8.03632764,  -8.03632764,\n",
       "         -8.03632764,  -8.03632764,  -8.03632764,  -8.03632764,\n",
       "         -8.03632764,  -8.03632764,  -8.03632764,  -8.03632764,\n",
       "         -8.03632764,  -8.03632764,  -8.03632764,  -8.03632764],\n",
       "       [ -6.91810291,  -6.91810291,  -6.91810291,  -6.91810291,\n",
       "         -6.91810291,  -6.91810291,  -6.91810291,  -6.91810291,\n",
       "         -6.91810291,  -6.91810291,  -6.91810291,  -6.91810291,\n",
       "         -6.91810291,  -6.91810291,  -6.91810291,  -6.91810291,\n",
       "         -6.91810291,  -6.91810291,  -6.91810291,  -6.91810291],\n",
       "       [ -5.79987819,  -5.79987819,  -5.79987819,  -5.79987819,\n",
       "         -5.79987819,  -5.79987819,  -5.79987819,  -5.79987819,\n",
       "         -5.79987819,  -5.79987819,  -5.79987819,  -5.79987819,\n",
       "         -5.79987819,  -5.79987819,  -5.79987819,  -5.79987819,\n",
       "         -5.79987819,  -5.79987819,  -5.79987819,  -5.79987819],\n",
       "       [ -4.68165347,  -4.68165347,  -4.68165347,  -4.68165347,\n",
       "         -4.68165347,  -4.68165347,  -4.68165347,  -4.68165347,\n",
       "         -4.68165347,  -4.68165347,  -4.68165347,  -4.68165347,\n",
       "         -4.68165347,  -4.68165347,  -4.68165347,  -4.68165347,\n",
       "         -4.68165347,  -4.68165347,  -4.68165347,  -4.68165347],\n",
       "       [ -3.56342875,  -3.56342875,  -3.56342875,  -3.56342875,\n",
       "         -3.56342875,  -3.56342875,  -3.56342875,  -3.56342875,\n",
       "         -3.56342875,  -3.56342875,  -3.56342875,  -3.56342875,\n",
       "         -3.56342875,  -3.56342875,  -3.56342875,  -3.56342875,\n",
       "         -3.56342875,  -3.56342875,  -3.56342875,  -3.56342875],\n",
       "       [ -2.44520402,  -2.44520402,  -2.44520402,  -2.44520402,\n",
       "         -2.44520402,  -2.44520402,  -2.44520402,  -2.44520402,\n",
       "         -2.44520402,  -2.44520402,  -2.44520402,  -2.44520402,\n",
       "         -2.44520402,  -2.44520402,  -2.44520402,  -2.44520402,\n",
       "         -2.44520402,  -2.44520402,  -2.44520402,  -2.44520402],\n",
       "       [ -1.3269793 ,  -1.3269793 ,  -1.3269793 ,  -1.3269793 ,\n",
       "         -1.3269793 ,  -1.3269793 ,  -1.3269793 ,  -1.3269793 ,\n",
       "         -1.3269793 ,  -1.3269793 ,  -1.3269793 ,  -1.3269793 ,\n",
       "         -1.3269793 ,  -1.3269793 ,  -1.3269793 ,  -1.3269793 ,\n",
       "         -1.3269793 ,  -1.3269793 ,  -1.3269793 ,  -1.3269793 ],\n",
       "       [ -0.20875458,  -0.20875458,  -0.20875458,  -0.20875458,\n",
       "         -0.20875458,  -0.20875458,  -0.20875458,  -0.20875458,\n",
       "         -0.20875458,  -0.20875458,  -0.20875458,  -0.20875458,\n",
       "         -0.20875458,  -0.20875458,  -0.20875458,  -0.20875458,\n",
       "         -0.20875458,  -0.20875458,  -0.20875458,  -0.20875458],\n",
       "       [  0.90947015,   0.90947015,   0.90947015,   0.90947015,\n",
       "          0.90947015,   0.90947015,   0.90947015,   0.90947015,\n",
       "          0.90947015,   0.90947015,   0.90947015,   0.90947015,\n",
       "          0.90947015,   0.90947015,   0.90947015,   0.90947015,\n",
       "          0.90947015,   0.90947015,   0.90947015,   0.90947015],\n",
       "       [  2.02769487,   2.02769487,   2.02769487,   2.02769487,\n",
       "          2.02769487,   2.02769487,   2.02769487,   2.02769487,\n",
       "          2.02769487,   2.02769487,   2.02769487,   2.02769487,\n",
       "          2.02769487,   2.02769487,   2.02769487,   2.02769487,\n",
       "          2.02769487,   2.02769487,   2.02769487,   2.02769487],\n",
       "       [  3.14591959,   3.14591959,   3.14591959,   3.14591959,\n",
       "          3.14591959,   3.14591959,   3.14591959,   3.14591959,\n",
       "          3.14591959,   3.14591959,   3.14591959,   3.14591959,\n",
       "          3.14591959,   3.14591959,   3.14591959,   3.14591959,\n",
       "          3.14591959,   3.14591959,   3.14591959,   3.14591959],\n",
       "       [  4.26414431,   4.26414431,   4.26414431,   4.26414431,\n",
       "          4.26414431,   4.26414431,   4.26414431,   4.26414431,\n",
       "          4.26414431,   4.26414431,   4.26414431,   4.26414431,\n",
       "          4.26414431,   4.26414431,   4.26414431,   4.26414431,\n",
       "          4.26414431,   4.26414431,   4.26414431,   4.26414431],\n",
       "       [  5.38236904,   5.38236904,   5.38236904,   5.38236904,\n",
       "          5.38236904,   5.38236904,   5.38236904,   5.38236904,\n",
       "          5.38236904,   5.38236904,   5.38236904,   5.38236904,\n",
       "          5.38236904,   5.38236904,   5.38236904,   5.38236904,\n",
       "          5.38236904,   5.38236904,   5.38236904,   5.38236904],\n",
       "       [  6.50059376,   6.50059376,   6.50059376,   6.50059376,\n",
       "          6.50059376,   6.50059376,   6.50059376,   6.50059376,\n",
       "          6.50059376,   6.50059376,   6.50059376,   6.50059376,\n",
       "          6.50059376,   6.50059376,   6.50059376,   6.50059376,\n",
       "          6.50059376,   6.50059376,   6.50059376,   6.50059376],\n",
       "       [  7.61881848,   7.61881848,   7.61881848,   7.61881848,\n",
       "          7.61881848,   7.61881848,   7.61881848,   7.61881848,\n",
       "          7.61881848,   7.61881848,   7.61881848,   7.61881848,\n",
       "          7.61881848,   7.61881848,   7.61881848,   7.61881848,\n",
       "          7.61881848,   7.61881848,   7.61881848,   7.61881848]])"
      ]
     },
     "execution_count": 15,
     "metadata": {},
     "output_type": "execute_result"
    }
   ],
   "source": [
    "x1 "
   ]
  },
  {
   "cell_type": "code",
   "execution_count": 16,
   "metadata": {
    "collapsed": true
   },
   "outputs": [],
   "source": [
    "x0_ = x0.ravel() \n",
    "x1_ = x1.ravel()"
   ]
  },
  {
   "cell_type": "code",
   "execution_count": 17,
   "metadata": {
    "collapsed": false
   },
   "outputs": [
    {
     "data": {
      "text/plain": [
       "400"
      ]
     },
     "execution_count": 17,
     "metadata": {},
     "output_type": "execute_result"
    }
   ],
   "source": [
    "len(x0_)"
   ]
  },
  {
   "cell_type": "code",
   "execution_count": 18,
   "metadata": {
    "collapsed": false
   },
   "outputs": [
    {
     "data": {
      "text/plain": [
       "array([  0.45642814,   1.14745252,   1.83847691,   2.5295013 ,\n",
       "         3.22052568,   3.91155007,   4.60257445,   5.29359884,\n",
       "         5.98462323,   6.67564761,   7.366672  ,   8.05769639,\n",
       "         8.74872077,   9.43974516,  10.13076954,  10.82179393,\n",
       "        11.51281832,  12.2038427 ,  12.89486709,  13.58589147,\n",
       "         0.45642814,   1.14745252,   1.83847691,   2.5295013 ,\n",
       "         3.22052568,   3.91155007,   4.60257445,   5.29359884,\n",
       "         5.98462323,   6.67564761,   7.366672  ,   8.05769639,\n",
       "         8.74872077,   9.43974516,  10.13076954,  10.82179393,\n",
       "        11.51281832,  12.2038427 ,  12.89486709,  13.58589147,\n",
       "         0.45642814,   1.14745252,   1.83847691,   2.5295013 ,\n",
       "         3.22052568,   3.91155007,   4.60257445,   5.29359884,\n",
       "         5.98462323,   6.67564761,   7.366672  ,   8.05769639,\n",
       "         8.74872077,   9.43974516,  10.13076954,  10.82179393,\n",
       "        11.51281832,  12.2038427 ,  12.89486709,  13.58589147,\n",
       "         0.45642814,   1.14745252,   1.83847691,   2.5295013 ,\n",
       "         3.22052568,   3.91155007,   4.60257445,   5.29359884,\n",
       "         5.98462323,   6.67564761,   7.366672  ,   8.05769639,\n",
       "         8.74872077,   9.43974516,  10.13076954,  10.82179393,\n",
       "        11.51281832,  12.2038427 ,  12.89486709,  13.58589147,\n",
       "         0.45642814,   1.14745252,   1.83847691,   2.5295013 ,\n",
       "         3.22052568,   3.91155007,   4.60257445,   5.29359884,\n",
       "         5.98462323,   6.67564761,   7.366672  ,   8.05769639,\n",
       "         8.74872077,   9.43974516,  10.13076954,  10.82179393,\n",
       "        11.51281832,  12.2038427 ,  12.89486709,  13.58589147,\n",
       "         0.45642814,   1.14745252,   1.83847691,   2.5295013 ,\n",
       "         3.22052568,   3.91155007,   4.60257445,   5.29359884,\n",
       "         5.98462323,   6.67564761,   7.366672  ,   8.05769639,\n",
       "         8.74872077,   9.43974516,  10.13076954,  10.82179393,\n",
       "        11.51281832,  12.2038427 ,  12.89486709,  13.58589147,\n",
       "         0.45642814,   1.14745252,   1.83847691,   2.5295013 ,\n",
       "         3.22052568,   3.91155007,   4.60257445,   5.29359884,\n",
       "         5.98462323,   6.67564761,   7.366672  ,   8.05769639,\n",
       "         8.74872077,   9.43974516,  10.13076954,  10.82179393,\n",
       "        11.51281832,  12.2038427 ,  12.89486709,  13.58589147,\n",
       "         0.45642814,   1.14745252,   1.83847691,   2.5295013 ,\n",
       "         3.22052568,   3.91155007,   4.60257445,   5.29359884,\n",
       "         5.98462323,   6.67564761,   7.366672  ,   8.05769639,\n",
       "         8.74872077,   9.43974516,  10.13076954,  10.82179393,\n",
       "        11.51281832,  12.2038427 ,  12.89486709,  13.58589147,\n",
       "         0.45642814,   1.14745252,   1.83847691,   2.5295013 ,\n",
       "         3.22052568,   3.91155007,   4.60257445,   5.29359884,\n",
       "         5.98462323,   6.67564761,   7.366672  ,   8.05769639,\n",
       "         8.74872077,   9.43974516,  10.13076954,  10.82179393,\n",
       "        11.51281832,  12.2038427 ,  12.89486709,  13.58589147,\n",
       "         0.45642814,   1.14745252,   1.83847691,   2.5295013 ,\n",
       "         3.22052568,   3.91155007,   4.60257445,   5.29359884,\n",
       "         5.98462323,   6.67564761,   7.366672  ,   8.05769639,\n",
       "         8.74872077,   9.43974516,  10.13076954,  10.82179393,\n",
       "        11.51281832,  12.2038427 ,  12.89486709,  13.58589147,\n",
       "         0.45642814,   1.14745252,   1.83847691,   2.5295013 ,\n",
       "         3.22052568,   3.91155007,   4.60257445,   5.29359884,\n",
       "         5.98462323,   6.67564761,   7.366672  ,   8.05769639,\n",
       "         8.74872077,   9.43974516,  10.13076954,  10.82179393,\n",
       "        11.51281832,  12.2038427 ,  12.89486709,  13.58589147,\n",
       "         0.45642814,   1.14745252,   1.83847691,   2.5295013 ,\n",
       "         3.22052568,   3.91155007,   4.60257445,   5.29359884,\n",
       "         5.98462323,   6.67564761,   7.366672  ,   8.05769639,\n",
       "         8.74872077,   9.43974516,  10.13076954,  10.82179393,\n",
       "        11.51281832,  12.2038427 ,  12.89486709,  13.58589147,\n",
       "         0.45642814,   1.14745252,   1.83847691,   2.5295013 ,\n",
       "         3.22052568,   3.91155007,   4.60257445,   5.29359884,\n",
       "         5.98462323,   6.67564761,   7.366672  ,   8.05769639,\n",
       "         8.74872077,   9.43974516,  10.13076954,  10.82179393,\n",
       "        11.51281832,  12.2038427 ,  12.89486709,  13.58589147,\n",
       "         0.45642814,   1.14745252,   1.83847691,   2.5295013 ,\n",
       "         3.22052568,   3.91155007,   4.60257445,   5.29359884,\n",
       "         5.98462323,   6.67564761,   7.366672  ,   8.05769639,\n",
       "         8.74872077,   9.43974516,  10.13076954,  10.82179393,\n",
       "        11.51281832,  12.2038427 ,  12.89486709,  13.58589147,\n",
       "         0.45642814,   1.14745252,   1.83847691,   2.5295013 ,\n",
       "         3.22052568,   3.91155007,   4.60257445,   5.29359884,\n",
       "         5.98462323,   6.67564761,   7.366672  ,   8.05769639,\n",
       "         8.74872077,   9.43974516,  10.13076954,  10.82179393,\n",
       "        11.51281832,  12.2038427 ,  12.89486709,  13.58589147,\n",
       "         0.45642814,   1.14745252,   1.83847691,   2.5295013 ,\n",
       "         3.22052568,   3.91155007,   4.60257445,   5.29359884,\n",
       "         5.98462323,   6.67564761,   7.366672  ,   8.05769639,\n",
       "         8.74872077,   9.43974516,  10.13076954,  10.82179393,\n",
       "        11.51281832,  12.2038427 ,  12.89486709,  13.58589147,\n",
       "         0.45642814,   1.14745252,   1.83847691,   2.5295013 ,\n",
       "         3.22052568,   3.91155007,   4.60257445,   5.29359884,\n",
       "         5.98462323,   6.67564761,   7.366672  ,   8.05769639,\n",
       "         8.74872077,   9.43974516,  10.13076954,  10.82179393,\n",
       "        11.51281832,  12.2038427 ,  12.89486709,  13.58589147,\n",
       "         0.45642814,   1.14745252,   1.83847691,   2.5295013 ,\n",
       "         3.22052568,   3.91155007,   4.60257445,   5.29359884,\n",
       "         5.98462323,   6.67564761,   7.366672  ,   8.05769639,\n",
       "         8.74872077,   9.43974516,  10.13076954,  10.82179393,\n",
       "        11.51281832,  12.2038427 ,  12.89486709,  13.58589147,\n",
       "         0.45642814,   1.14745252,   1.83847691,   2.5295013 ,\n",
       "         3.22052568,   3.91155007,   4.60257445,   5.29359884,\n",
       "         5.98462323,   6.67564761,   7.366672  ,   8.05769639,\n",
       "         8.74872077,   9.43974516,  10.13076954,  10.82179393,\n",
       "        11.51281832,  12.2038427 ,  12.89486709,  13.58589147,\n",
       "         0.45642814,   1.14745252,   1.83847691,   2.5295013 ,\n",
       "         3.22052568,   3.91155007,   4.60257445,   5.29359884,\n",
       "         5.98462323,   6.67564761,   7.366672  ,   8.05769639,\n",
       "         8.74872077,   9.43974516,  10.13076954,  10.82179393,\n",
       "        11.51281832,  12.2038427 ,  12.89486709,  13.58589147])"
      ]
     },
     "execution_count": 18,
     "metadata": {},
     "output_type": "execute_result"
    }
   ],
   "source": [
    "x0_"
   ]
  },
  {
   "cell_type": "code",
   "execution_count": 19,
   "metadata": {
    "collapsed": true
   },
   "outputs": [],
   "source": [
    "x01 = np.c_[x0_, x1_]"
   ]
  },
  {
   "cell_type": "code",
   "execution_count": 20,
   "metadata": {
    "collapsed": false
   },
   "outputs": [
    {
     "data": {
      "text/plain": [
       "(400, 2)"
      ]
     },
     "execution_count": 20,
     "metadata": {},
     "output_type": "execute_result"
    }
   ],
   "source": [
    "x01.shape"
   ]
  },
  {
   "cell_type": "code",
   "execution_count": 21,
   "metadata": {
    "collapsed": false
   },
   "outputs": [
    {
     "data": {
      "text/plain": [
       "array([[  0.45642814, -13.62745125],\n",
       "       [  1.14745252, -13.62745125],\n",
       "       [  1.83847691, -13.62745125],\n",
       "       [  2.5295013 , -13.62745125],\n",
       "       [  3.22052568, -13.62745125],\n",
       "       [  3.91155007, -13.62745125],\n",
       "       [  4.60257445, -13.62745125],\n",
       "       [  5.29359884, -13.62745125],\n",
       "       [  5.98462323, -13.62745125],\n",
       "       [  6.67564761, -13.62745125],\n",
       "       [  7.366672  , -13.62745125],\n",
       "       [  8.05769639, -13.62745125],\n",
       "       [  8.74872077, -13.62745125],\n",
       "       [  9.43974516, -13.62745125],\n",
       "       [ 10.13076954, -13.62745125],\n",
       "       [ 10.82179393, -13.62745125],\n",
       "       [ 11.51281832, -13.62745125],\n",
       "       [ 12.2038427 , -13.62745125],\n",
       "       [ 12.89486709, -13.62745125],\n",
       "       [ 13.58589147, -13.62745125],\n",
       "       [  0.45642814, -12.50922653],\n",
       "       [  1.14745252, -12.50922653],\n",
       "       [  1.83847691, -12.50922653],\n",
       "       [  2.5295013 , -12.50922653],\n",
       "       [  3.22052568, -12.50922653],\n",
       "       [  3.91155007, -12.50922653],\n",
       "       [  4.60257445, -12.50922653],\n",
       "       [  5.29359884, -12.50922653],\n",
       "       [  5.98462323, -12.50922653],\n",
       "       [  6.67564761, -12.50922653],\n",
       "       [  7.366672  , -12.50922653],\n",
       "       [  8.05769639, -12.50922653],\n",
       "       [  8.74872077, -12.50922653],\n",
       "       [  9.43974516, -12.50922653],\n",
       "       [ 10.13076954, -12.50922653],\n",
       "       [ 10.82179393, -12.50922653],\n",
       "       [ 11.51281832, -12.50922653],\n",
       "       [ 12.2038427 , -12.50922653],\n",
       "       [ 12.89486709, -12.50922653],\n",
       "       [ 13.58589147, -12.50922653],\n",
       "       [  0.45642814, -11.39100181],\n",
       "       [  1.14745252, -11.39100181],\n",
       "       [  1.83847691, -11.39100181],\n",
       "       [  2.5295013 , -11.39100181],\n",
       "       [  3.22052568, -11.39100181],\n",
       "       [  3.91155007, -11.39100181],\n",
       "       [  4.60257445, -11.39100181],\n",
       "       [  5.29359884, -11.39100181],\n",
       "       [  5.98462323, -11.39100181],\n",
       "       [  6.67564761, -11.39100181],\n",
       "       [  7.366672  , -11.39100181],\n",
       "       [  8.05769639, -11.39100181],\n",
       "       [  8.74872077, -11.39100181],\n",
       "       [  9.43974516, -11.39100181],\n",
       "       [ 10.13076954, -11.39100181],\n",
       "       [ 10.82179393, -11.39100181],\n",
       "       [ 11.51281832, -11.39100181],\n",
       "       [ 12.2038427 , -11.39100181],\n",
       "       [ 12.89486709, -11.39100181],\n",
       "       [ 13.58589147, -11.39100181],\n",
       "       [  0.45642814, -10.27277708],\n",
       "       [  1.14745252, -10.27277708],\n",
       "       [  1.83847691, -10.27277708],\n",
       "       [  2.5295013 , -10.27277708],\n",
       "       [  3.22052568, -10.27277708],\n",
       "       [  3.91155007, -10.27277708],\n",
       "       [  4.60257445, -10.27277708],\n",
       "       [  5.29359884, -10.27277708],\n",
       "       [  5.98462323, -10.27277708],\n",
       "       [  6.67564761, -10.27277708],\n",
       "       [  7.366672  , -10.27277708],\n",
       "       [  8.05769639, -10.27277708],\n",
       "       [  8.74872077, -10.27277708],\n",
       "       [  9.43974516, -10.27277708],\n",
       "       [ 10.13076954, -10.27277708],\n",
       "       [ 10.82179393, -10.27277708],\n",
       "       [ 11.51281832, -10.27277708],\n",
       "       [ 12.2038427 , -10.27277708],\n",
       "       [ 12.89486709, -10.27277708],\n",
       "       [ 13.58589147, -10.27277708],\n",
       "       [  0.45642814,  -9.15455236],\n",
       "       [  1.14745252,  -9.15455236],\n",
       "       [  1.83847691,  -9.15455236],\n",
       "       [  2.5295013 ,  -9.15455236],\n",
       "       [  3.22052568,  -9.15455236],\n",
       "       [  3.91155007,  -9.15455236],\n",
       "       [  4.60257445,  -9.15455236],\n",
       "       [  5.29359884,  -9.15455236],\n",
       "       [  5.98462323,  -9.15455236],\n",
       "       [  6.67564761,  -9.15455236],\n",
       "       [  7.366672  ,  -9.15455236],\n",
       "       [  8.05769639,  -9.15455236],\n",
       "       [  8.74872077,  -9.15455236],\n",
       "       [  9.43974516,  -9.15455236],\n",
       "       [ 10.13076954,  -9.15455236],\n",
       "       [ 10.82179393,  -9.15455236],\n",
       "       [ 11.51281832,  -9.15455236],\n",
       "       [ 12.2038427 ,  -9.15455236],\n",
       "       [ 12.89486709,  -9.15455236],\n",
       "       [ 13.58589147,  -9.15455236],\n",
       "       [  0.45642814,  -8.03632764],\n",
       "       [  1.14745252,  -8.03632764],\n",
       "       [  1.83847691,  -8.03632764],\n",
       "       [  2.5295013 ,  -8.03632764],\n",
       "       [  3.22052568,  -8.03632764],\n",
       "       [  3.91155007,  -8.03632764],\n",
       "       [  4.60257445,  -8.03632764],\n",
       "       [  5.29359884,  -8.03632764],\n",
       "       [  5.98462323,  -8.03632764],\n",
       "       [  6.67564761,  -8.03632764],\n",
       "       [  7.366672  ,  -8.03632764],\n",
       "       [  8.05769639,  -8.03632764],\n",
       "       [  8.74872077,  -8.03632764],\n",
       "       [  9.43974516,  -8.03632764],\n",
       "       [ 10.13076954,  -8.03632764],\n",
       "       [ 10.82179393,  -8.03632764],\n",
       "       [ 11.51281832,  -8.03632764],\n",
       "       [ 12.2038427 ,  -8.03632764],\n",
       "       [ 12.89486709,  -8.03632764],\n",
       "       [ 13.58589147,  -8.03632764],\n",
       "       [  0.45642814,  -6.91810291],\n",
       "       [  1.14745252,  -6.91810291],\n",
       "       [  1.83847691,  -6.91810291],\n",
       "       [  2.5295013 ,  -6.91810291],\n",
       "       [  3.22052568,  -6.91810291],\n",
       "       [  3.91155007,  -6.91810291],\n",
       "       [  4.60257445,  -6.91810291],\n",
       "       [  5.29359884,  -6.91810291],\n",
       "       [  5.98462323,  -6.91810291],\n",
       "       [  6.67564761,  -6.91810291],\n",
       "       [  7.366672  ,  -6.91810291],\n",
       "       [  8.05769639,  -6.91810291],\n",
       "       [  8.74872077,  -6.91810291],\n",
       "       [  9.43974516,  -6.91810291],\n",
       "       [ 10.13076954,  -6.91810291],\n",
       "       [ 10.82179393,  -6.91810291],\n",
       "       [ 11.51281832,  -6.91810291],\n",
       "       [ 12.2038427 ,  -6.91810291],\n",
       "       [ 12.89486709,  -6.91810291],\n",
       "       [ 13.58589147,  -6.91810291],\n",
       "       [  0.45642814,  -5.79987819],\n",
       "       [  1.14745252,  -5.79987819],\n",
       "       [  1.83847691,  -5.79987819],\n",
       "       [  2.5295013 ,  -5.79987819],\n",
       "       [  3.22052568,  -5.79987819],\n",
       "       [  3.91155007,  -5.79987819],\n",
       "       [  4.60257445,  -5.79987819],\n",
       "       [  5.29359884,  -5.79987819],\n",
       "       [  5.98462323,  -5.79987819],\n",
       "       [  6.67564761,  -5.79987819],\n",
       "       [  7.366672  ,  -5.79987819],\n",
       "       [  8.05769639,  -5.79987819],\n",
       "       [  8.74872077,  -5.79987819],\n",
       "       [  9.43974516,  -5.79987819],\n",
       "       [ 10.13076954,  -5.79987819],\n",
       "       [ 10.82179393,  -5.79987819],\n",
       "       [ 11.51281832,  -5.79987819],\n",
       "       [ 12.2038427 ,  -5.79987819],\n",
       "       [ 12.89486709,  -5.79987819],\n",
       "       [ 13.58589147,  -5.79987819],\n",
       "       [  0.45642814,  -4.68165347],\n",
       "       [  1.14745252,  -4.68165347],\n",
       "       [  1.83847691,  -4.68165347],\n",
       "       [  2.5295013 ,  -4.68165347],\n",
       "       [  3.22052568,  -4.68165347],\n",
       "       [  3.91155007,  -4.68165347],\n",
       "       [  4.60257445,  -4.68165347],\n",
       "       [  5.29359884,  -4.68165347],\n",
       "       [  5.98462323,  -4.68165347],\n",
       "       [  6.67564761,  -4.68165347],\n",
       "       [  7.366672  ,  -4.68165347],\n",
       "       [  8.05769639,  -4.68165347],\n",
       "       [  8.74872077,  -4.68165347],\n",
       "       [  9.43974516,  -4.68165347],\n",
       "       [ 10.13076954,  -4.68165347],\n",
       "       [ 10.82179393,  -4.68165347],\n",
       "       [ 11.51281832,  -4.68165347],\n",
       "       [ 12.2038427 ,  -4.68165347],\n",
       "       [ 12.89486709,  -4.68165347],\n",
       "       [ 13.58589147,  -4.68165347],\n",
       "       [  0.45642814,  -3.56342875],\n",
       "       [  1.14745252,  -3.56342875],\n",
       "       [  1.83847691,  -3.56342875],\n",
       "       [  2.5295013 ,  -3.56342875],\n",
       "       [  3.22052568,  -3.56342875],\n",
       "       [  3.91155007,  -3.56342875],\n",
       "       [  4.60257445,  -3.56342875],\n",
       "       [  5.29359884,  -3.56342875],\n",
       "       [  5.98462323,  -3.56342875],\n",
       "       [  6.67564761,  -3.56342875],\n",
       "       [  7.366672  ,  -3.56342875],\n",
       "       [  8.05769639,  -3.56342875],\n",
       "       [  8.74872077,  -3.56342875],\n",
       "       [  9.43974516,  -3.56342875],\n",
       "       [ 10.13076954,  -3.56342875],\n",
       "       [ 10.82179393,  -3.56342875],\n",
       "       [ 11.51281832,  -3.56342875],\n",
       "       [ 12.2038427 ,  -3.56342875],\n",
       "       [ 12.89486709,  -3.56342875],\n",
       "       [ 13.58589147,  -3.56342875],\n",
       "       [  0.45642814,  -2.44520402],\n",
       "       [  1.14745252,  -2.44520402],\n",
       "       [  1.83847691,  -2.44520402],\n",
       "       [  2.5295013 ,  -2.44520402],\n",
       "       [  3.22052568,  -2.44520402],\n",
       "       [  3.91155007,  -2.44520402],\n",
       "       [  4.60257445,  -2.44520402],\n",
       "       [  5.29359884,  -2.44520402],\n",
       "       [  5.98462323,  -2.44520402],\n",
       "       [  6.67564761,  -2.44520402],\n",
       "       [  7.366672  ,  -2.44520402],\n",
       "       [  8.05769639,  -2.44520402],\n",
       "       [  8.74872077,  -2.44520402],\n",
       "       [  9.43974516,  -2.44520402],\n",
       "       [ 10.13076954,  -2.44520402],\n",
       "       [ 10.82179393,  -2.44520402],\n",
       "       [ 11.51281832,  -2.44520402],\n",
       "       [ 12.2038427 ,  -2.44520402],\n",
       "       [ 12.89486709,  -2.44520402],\n",
       "       [ 13.58589147,  -2.44520402],\n",
       "       [  0.45642814,  -1.3269793 ],\n",
       "       [  1.14745252,  -1.3269793 ],\n",
       "       [  1.83847691,  -1.3269793 ],\n",
       "       [  2.5295013 ,  -1.3269793 ],\n",
       "       [  3.22052568,  -1.3269793 ],\n",
       "       [  3.91155007,  -1.3269793 ],\n",
       "       [  4.60257445,  -1.3269793 ],\n",
       "       [  5.29359884,  -1.3269793 ],\n",
       "       [  5.98462323,  -1.3269793 ],\n",
       "       [  6.67564761,  -1.3269793 ],\n",
       "       [  7.366672  ,  -1.3269793 ],\n",
       "       [  8.05769639,  -1.3269793 ],\n",
       "       [  8.74872077,  -1.3269793 ],\n",
       "       [  9.43974516,  -1.3269793 ],\n",
       "       [ 10.13076954,  -1.3269793 ],\n",
       "       [ 10.82179393,  -1.3269793 ],\n",
       "       [ 11.51281832,  -1.3269793 ],\n",
       "       [ 12.2038427 ,  -1.3269793 ],\n",
       "       [ 12.89486709,  -1.3269793 ],\n",
       "       [ 13.58589147,  -1.3269793 ],\n",
       "       [  0.45642814,  -0.20875458],\n",
       "       [  1.14745252,  -0.20875458],\n",
       "       [  1.83847691,  -0.20875458],\n",
       "       [  2.5295013 ,  -0.20875458],\n",
       "       [  3.22052568,  -0.20875458],\n",
       "       [  3.91155007,  -0.20875458],\n",
       "       [  4.60257445,  -0.20875458],\n",
       "       [  5.29359884,  -0.20875458],\n",
       "       [  5.98462323,  -0.20875458],\n",
       "       [  6.67564761,  -0.20875458],\n",
       "       [  7.366672  ,  -0.20875458],\n",
       "       [  8.05769639,  -0.20875458],\n",
       "       [  8.74872077,  -0.20875458],\n",
       "       [  9.43974516,  -0.20875458],\n",
       "       [ 10.13076954,  -0.20875458],\n",
       "       [ 10.82179393,  -0.20875458],\n",
       "       [ 11.51281832,  -0.20875458],\n",
       "       [ 12.2038427 ,  -0.20875458],\n",
       "       [ 12.89486709,  -0.20875458],\n",
       "       [ 13.58589147,  -0.20875458],\n",
       "       [  0.45642814,   0.90947015],\n",
       "       [  1.14745252,   0.90947015],\n",
       "       [  1.83847691,   0.90947015],\n",
       "       [  2.5295013 ,   0.90947015],\n",
       "       [  3.22052568,   0.90947015],\n",
       "       [  3.91155007,   0.90947015],\n",
       "       [  4.60257445,   0.90947015],\n",
       "       [  5.29359884,   0.90947015],\n",
       "       [  5.98462323,   0.90947015],\n",
       "       [  6.67564761,   0.90947015],\n",
       "       [  7.366672  ,   0.90947015],\n",
       "       [  8.05769639,   0.90947015],\n",
       "       [  8.74872077,   0.90947015],\n",
       "       [  9.43974516,   0.90947015],\n",
       "       [ 10.13076954,   0.90947015],\n",
       "       [ 10.82179393,   0.90947015],\n",
       "       [ 11.51281832,   0.90947015],\n",
       "       [ 12.2038427 ,   0.90947015],\n",
       "       [ 12.89486709,   0.90947015],\n",
       "       [ 13.58589147,   0.90947015],\n",
       "       [  0.45642814,   2.02769487],\n",
       "       [  1.14745252,   2.02769487],\n",
       "       [  1.83847691,   2.02769487],\n",
       "       [  2.5295013 ,   2.02769487],\n",
       "       [  3.22052568,   2.02769487],\n",
       "       [  3.91155007,   2.02769487],\n",
       "       [  4.60257445,   2.02769487],\n",
       "       [  5.29359884,   2.02769487],\n",
       "       [  5.98462323,   2.02769487],\n",
       "       [  6.67564761,   2.02769487],\n",
       "       [  7.366672  ,   2.02769487],\n",
       "       [  8.05769639,   2.02769487],\n",
       "       [  8.74872077,   2.02769487],\n",
       "       [  9.43974516,   2.02769487],\n",
       "       [ 10.13076954,   2.02769487],\n",
       "       [ 10.82179393,   2.02769487],\n",
       "       [ 11.51281832,   2.02769487],\n",
       "       [ 12.2038427 ,   2.02769487],\n",
       "       [ 12.89486709,   2.02769487],\n",
       "       [ 13.58589147,   2.02769487],\n",
       "       [  0.45642814,   3.14591959],\n",
       "       [  1.14745252,   3.14591959],\n",
       "       [  1.83847691,   3.14591959],\n",
       "       [  2.5295013 ,   3.14591959],\n",
       "       [  3.22052568,   3.14591959],\n",
       "       [  3.91155007,   3.14591959],\n",
       "       [  4.60257445,   3.14591959],\n",
       "       [  5.29359884,   3.14591959],\n",
       "       [  5.98462323,   3.14591959],\n",
       "       [  6.67564761,   3.14591959],\n",
       "       [  7.366672  ,   3.14591959],\n",
       "       [  8.05769639,   3.14591959],\n",
       "       [  8.74872077,   3.14591959],\n",
       "       [  9.43974516,   3.14591959],\n",
       "       [ 10.13076954,   3.14591959],\n",
       "       [ 10.82179393,   3.14591959],\n",
       "       [ 11.51281832,   3.14591959],\n",
       "       [ 12.2038427 ,   3.14591959],\n",
       "       [ 12.89486709,   3.14591959],\n",
       "       [ 13.58589147,   3.14591959],\n",
       "       [  0.45642814,   4.26414431],\n",
       "       [  1.14745252,   4.26414431],\n",
       "       [  1.83847691,   4.26414431],\n",
       "       [  2.5295013 ,   4.26414431],\n",
       "       [  3.22052568,   4.26414431],\n",
       "       [  3.91155007,   4.26414431],\n",
       "       [  4.60257445,   4.26414431],\n",
       "       [  5.29359884,   4.26414431],\n",
       "       [  5.98462323,   4.26414431],\n",
       "       [  6.67564761,   4.26414431],\n",
       "       [  7.366672  ,   4.26414431],\n",
       "       [  8.05769639,   4.26414431],\n",
       "       [  8.74872077,   4.26414431],\n",
       "       [  9.43974516,   4.26414431],\n",
       "       [ 10.13076954,   4.26414431],\n",
       "       [ 10.82179393,   4.26414431],\n",
       "       [ 11.51281832,   4.26414431],\n",
       "       [ 12.2038427 ,   4.26414431],\n",
       "       [ 12.89486709,   4.26414431],\n",
       "       [ 13.58589147,   4.26414431],\n",
       "       [  0.45642814,   5.38236904],\n",
       "       [  1.14745252,   5.38236904],\n",
       "       [  1.83847691,   5.38236904],\n",
       "       [  2.5295013 ,   5.38236904],\n",
       "       [  3.22052568,   5.38236904],\n",
       "       [  3.91155007,   5.38236904],\n",
       "       [  4.60257445,   5.38236904],\n",
       "       [  5.29359884,   5.38236904],\n",
       "       [  5.98462323,   5.38236904],\n",
       "       [  6.67564761,   5.38236904],\n",
       "       [  7.366672  ,   5.38236904],\n",
       "       [  8.05769639,   5.38236904],\n",
       "       [  8.74872077,   5.38236904],\n",
       "       [  9.43974516,   5.38236904],\n",
       "       [ 10.13076954,   5.38236904],\n",
       "       [ 10.82179393,   5.38236904],\n",
       "       [ 11.51281832,   5.38236904],\n",
       "       [ 12.2038427 ,   5.38236904],\n",
       "       [ 12.89486709,   5.38236904],\n",
       "       [ 13.58589147,   5.38236904],\n",
       "       [  0.45642814,   6.50059376],\n",
       "       [  1.14745252,   6.50059376],\n",
       "       [  1.83847691,   6.50059376],\n",
       "       [  2.5295013 ,   6.50059376],\n",
       "       [  3.22052568,   6.50059376],\n",
       "       [  3.91155007,   6.50059376],\n",
       "       [  4.60257445,   6.50059376],\n",
       "       [  5.29359884,   6.50059376],\n",
       "       [  5.98462323,   6.50059376],\n",
       "       [  6.67564761,   6.50059376],\n",
       "       [  7.366672  ,   6.50059376],\n",
       "       [  8.05769639,   6.50059376],\n",
       "       [  8.74872077,   6.50059376],\n",
       "       [  9.43974516,   6.50059376],\n",
       "       [ 10.13076954,   6.50059376],\n",
       "       [ 10.82179393,   6.50059376],\n",
       "       [ 11.51281832,   6.50059376],\n",
       "       [ 12.2038427 ,   6.50059376],\n",
       "       [ 12.89486709,   6.50059376],\n",
       "       [ 13.58589147,   6.50059376],\n",
       "       [  0.45642814,   7.61881848],\n",
       "       [  1.14745252,   7.61881848],\n",
       "       [  1.83847691,   7.61881848],\n",
       "       [  2.5295013 ,   7.61881848],\n",
       "       [  3.22052568,   7.61881848],\n",
       "       [  3.91155007,   7.61881848],\n",
       "       [  4.60257445,   7.61881848],\n",
       "       [  5.29359884,   7.61881848],\n",
       "       [  5.98462323,   7.61881848],\n",
       "       [  6.67564761,   7.61881848],\n",
       "       [  7.366672  ,   7.61881848],\n",
       "       [  8.05769639,   7.61881848],\n",
       "       [  8.74872077,   7.61881848],\n",
       "       [  9.43974516,   7.61881848],\n",
       "       [ 10.13076954,   7.61881848],\n",
       "       [ 10.82179393,   7.61881848],\n",
       "       [ 11.51281832,   7.61881848],\n",
       "       [ 12.2038427 ,   7.61881848],\n",
       "       [ 12.89486709,   7.61881848],\n",
       "       [ 13.58589147,   7.61881848]])"
      ]
     },
     "execution_count": 21,
     "metadata": {},
     "output_type": "execute_result"
    }
   ],
   "source": [
    "x01"
   ]
  },
  {
   "cell_type": "code",
   "execution_count": 22,
   "metadata": {
    "collapsed": false
   },
   "outputs": [
    {
     "data": {
      "text/plain": [
       "(0.45642813876023558, 13.585891473268598)"
      ]
     },
     "execution_count": 22,
     "metadata": {},
     "output_type": "execute_result"
    }
   ],
   "source": [
    "x01[:,0].min(), x01[:,0].max()"
   ]
  },
  {
   "cell_type": "code",
   "execution_count": 23,
   "metadata": {
    "collapsed": false
   },
   "outputs": [
    {
     "data": {
      "text/plain": [
       "(0.45642813876023558, 13.585891473268598)"
      ]
     },
     "execution_count": 23,
     "metadata": {},
     "output_type": "execute_result"
    }
   ],
   "source": [
    "x0_lim"
   ]
  },
  {
   "cell_type": "code",
   "execution_count": 24,
   "metadata": {
    "collapsed": false
   },
   "outputs": [
    {
     "data": {
      "text/plain": [
       "True"
      ]
     },
     "execution_count": 24,
     "metadata": {},
     "output_type": "execute_result"
    }
   ],
   "source": [
    "x0_lim == (x01[:,0].min(), x01[:,0].max())"
   ]
  },
  {
   "cell_type": "code",
   "execution_count": 25,
   "metadata": {
    "collapsed": false
   },
   "outputs": [
    {
     "data": {
      "text/plain": [
       "(-13.62745125180961, 7.6188184836933468)"
      ]
     },
     "execution_count": 25,
     "metadata": {},
     "output_type": "execute_result"
    }
   ],
   "source": [
    "x01[:,1].min(), x01[:,1].max()"
   ]
  },
  {
   "cell_type": "code",
   "execution_count": 26,
   "metadata": {
    "collapsed": false
   },
   "outputs": [
    {
     "data": {
      "text/plain": [
       "(-13.62745125180961, 7.6188184836933468)"
      ]
     },
     "execution_count": 26,
     "metadata": {},
     "output_type": "execute_result"
    }
   ],
   "source": [
    "x1_lim"
   ]
  },
  {
   "cell_type": "code",
   "execution_count": 27,
   "metadata": {
    "collapsed": false
   },
   "outputs": [
    {
     "data": {
      "text/plain": [
       "True"
      ]
     },
     "execution_count": 27,
     "metadata": {},
     "output_type": "execute_result"
    }
   ],
   "source": [
    "x1_lim == (x01[:,1].min(), x01[:,1].max())"
   ]
  },
  {
   "cell_type": "code",
   "execution_count": 28,
   "metadata": {
    "collapsed": false
   },
   "outputs": [
    {
     "data": {
      "text/plain": [
       "<matplotlib.collections.PathCollection at 0xb8b3390>"
      ]
     },
     "execution_count": 28,
     "metadata": {},
     "output_type": "execute_result"
    },
    {
     "data": {
      "image/png": "[encoded data removed]",
      "text/plain": [
       "<matplotlib.figure.Figure at 0xbcfd748>"
      ]
     },
     "metadata": {},
     "output_type": "display_data"
    }
   ],
   "source": [
    "sns.plt.scatter(x01[:,0], x01[:,1]) "
   ]
  },
  {
   "cell_type": "code",
   "execution_count": 29,
   "metadata": {
    "collapsed": true
   },
   "outputs": [],
   "source": [
    "from sklearn.cross_validation import train_test_split  \n",
    "from sklearn.metrics import accuracy_score  \n",
    "from sklearn.ensemble import RandomForestClassifier"
   ]
  },
  {
   "cell_type": "code",
   "execution_count": 30,
   "metadata": {
    "collapsed": true
   },
   "outputs": [],
   "source": [
    "# 分類にはランダムフォレストを使ってみる\n",
    "model = RandomForestClassifier(n_estimators=100, random_state=0)"
   ]
  },
  {
   "cell_type": "code",
   "execution_count": 31,
   "metadata": {
    "collapsed": false
   },
   "outputs": [
    {
     "data": {
      "text/plain": [
       "RandomForestClassifier(bootstrap=True, class_weight=None, criterion='gini',\n",
       "            max_depth=None, max_features='auto', max_leaf_nodes=None,\n",
       "            min_samples_leaf=1, min_samples_split=2,\n",
       "            min_weight_fraction_leaf=0.0, n_estimators=100, n_jobs=1,\n",
       "            oob_score=False, random_state=0, verbose=0, warm_start=False)"
      ]
     },
     "execution_count": 31,
     "metadata": {},
     "output_type": "execute_result"
    }
   ],
   "source": [
    "# 学習する\n",
    "model.fit(X, y)"
   ]
  },
  {
   "cell_type": "code",
   "execution_count": 32,
   "metadata": {
    "collapsed": true
   },
   "outputs": [],
   "source": [
    "# 予測する\n",
    "Z = model.predict(x01).reshape(x0.shape) "
   ]
  },
  {
   "cell_type": "code",
   "execution_count": 33,
   "metadata": {
    "collapsed": false
   },
   "outputs": [
    {
     "data": {
      "text/plain": [
       "array([[2, 2, 2, 2, 2, 2, 2, 3, 3, 3, 3, 3, 3, 3, 3, 3, 3, 3, 3, 3],\n",
       "       [2, 2, 2, 2, 2, 2, 2, 3, 3, 3, 3, 3, 3, 3, 3, 3, 3, 3, 3, 3],\n",
       "       [2, 2, 2, 2, 2, 2, 2, 3, 3, 3, 3, 3, 3, 3, 3, 3, 3, 3, 3, 3],\n",
       "       [2, 2, 2, 2, 2, 2, 2, 2, 3, 3, 3, 3, 3, 3, 3, 3, 3, 3, 3, 3],\n",
       "       [2, 2, 2, 2, 2, 2, 2, 2, 2, 2, 3, 3, 3, 3, 3, 3, 3, 3, 3, 3],\n",
       "       [2, 2, 2, 2, 2, 2, 2, 2, 2, 2, 3, 3, 3, 3, 3, 3, 3, 3, 3, 3],\n",
       "       [2, 2, 2, 2, 2, 2, 2, 2, 2, 2, 3, 3, 3, 3, 3, 3, 3, 3, 3, 3],\n",
       "       [2, 2, 2, 2, 2, 2, 2, 2, 2, 2, 3, 3, 3, 3, 3, 3, 3, 3, 3, 3],\n",
       "       [2, 2, 2, 2, 2, 2, 2, 2, 2, 2, 3, 2, 3, 3, 3, 3, 3, 3, 3, 3],\n",
       "       [2, 2, 2, 2, 2, 2, 2, 2, 2, 2, 3, 2, 0, 0, 0, 0, 0, 0, 0, 0],\n",
       "       [2, 2, 2, 2, 2, 2, 2, 2, 2, 2, 2, 2, 0, 0, 0, 0, 0, 0, 0, 0],\n",
       "       [2, 2, 2, 2, 2, 2, 2, 2, 0, 0, 0, 0, 0, 0, 0, 0, 0, 0, 0, 0],\n",
       "       [2, 2, 2, 2, 2, 2, 2, 0, 0, 0, 0, 0, 0, 0, 0, 0, 0, 0, 0, 0],\n",
       "       [2, 2, 2, 2, 2, 2, 2, 0, 0, 0, 0, 0, 0, 0, 0, 0, 0, 0, 0, 0],\n",
       "       [2, 2, 2, 2, 2, 2, 2, 0, 0, 0, 0, 0, 0, 0, 0, 0, 0, 0, 0, 0],\n",
       "       [1, 1, 1, 1, 1, 1, 1, 1, 1, 1, 1, 1, 1, 1, 1, 1, 0, 1, 0, 0],\n",
       "       [1, 1, 1, 1, 1, 1, 1, 1, 0, 1, 1, 1, 1, 1, 1, 1, 1, 1, 1, 1],\n",
       "       [1, 1, 1, 1, 1, 1, 1, 1, 1, 1, 1, 1, 1, 1, 1, 1, 1, 1, 1, 1],\n",
       "       [1, 1, 1, 1, 1, 1, 1, 1, 1, 1, 1, 1, 1, 1, 1, 1, 1, 1, 1, 1],\n",
       "       [1, 1, 1, 1, 1, 1, 1, 1, 1, 1, 1, 1, 1, 1, 1, 1, 1, 1, 1, 1]])"
      ]
     },
     "execution_count": 33,
     "metadata": {},
     "output_type": "execute_result"
    }
   ],
   "source": [
    "Z"
   ]
  },
  {
   "cell_type": "code",
   "execution_count": 34,
   "metadata": {
    "collapsed": false
   },
   "outputs": [
    {
     "data": {
      "image/png": "[encoded data removed]",
      "text/plain": [
       "<matplotlib.figure.Figure at 0xba19b00>"
      ]
     },
     "metadata": {},
     "output_type": "display_data"
    }
   ],
   "source": [
    "sns.lmplot(\"X0\", \"X1\", data=df, hue=\"target\", fit_reg=False)  \n",
    "sns.plt.pcolormesh(x0, x1, Z, alpha=0.1, cmap=\"jet\")  \n",
    "sns.plt.show() "
   ]
  },
  {
   "cell_type": "code",
   "execution_count": null,
   "metadata": {
    "collapsed": true
   },
   "outputs": [],
   "source": []
  }
 ],
 "metadata": {
  "kernelspec": {
   "display_name": "Python 3",
   "language": "python",
   "name": "python3"
  },
  "language_info": {
   "codemirror_mode": {
    "name": "ipython",
    "version": 3
   },
   "file_extension": ".py",
   "mimetype": "text/x-python",
   "name": "python",
   "nbconvert_exporter": "python",
   "pygments_lexer": "ipython3",
   "version": "3.5.2"
  }
 },
 "nbformat": 4,
 "nbformat_minor": 1
}
