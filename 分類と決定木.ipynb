{
 "cells": [
  {
   "cell_type": "code",
   "execution_count": 9,
   "metadata": {
    "collapsed": false
   },
   "outputs": [
    {
     "name": "stdout",
     "output_type": "stream",
     "text": [
      "[0 1]\n"
     ]
    }
   ],
   "source": [
    "# -*- coding: utf-8 -*-\n",
    "import pandas as pd\n",
    "import numpy as np\n",
    "from sklearn import tree\n",
    "\n",
    "# 教師データをロード\n",
    "df = pd.read_excel('xor_simple.xlsx', header=0);\n",
    "data_array = df[['x', 'y']].values\n",
    "class_array = df['class'].values\n",
    "\n",
    "# 学習（決定木）\n",
    "clf = tree.DecisionTreeClassifier()\n",
    "clf = clf.fit(data_array, class_array)\n",
    "\n",
    "#学習後に、２つのデータを与えてそれらを分類。\n",
    "#与えられた教師データの特徴から考えると\n",
    "# x=2.0, y=1.0 であれば、クラス「0」に分類されるはず。\n",
    "# x=1.0, y= -0.5であれば、クラス「1」に分類されるはず。\n",
    "result = clf.predict([[2., 1.], [1., -0.5]])\n",
    "print(result)"
   ]
  },
  {
   "cell_type": "code",
   "execution_count": 10,
   "metadata": {
    "collapsed": false
   },
   "outputs": [
    {
     "data": {
      "image/png": "[encoded data removed]",
      "text/plain": [
       "<matplotlib.figure.Figure at 0x6dec630>"
      ]
     },
     "metadata": {},
     "output_type": "display_data"
    }
   ],
   "source": [
    "### 決定境界の可視化\n",
    "import matplotlib.pyplot as plt\n",
    "\n",
    "# Parameters for plot\n",
    "n_classes = 2\n",
    "plot_colors = \"br\"\n",
    "plot_step = 0.05\n",
    "\n",
    "#グラフ描画時の説明変数 x、yの最大値＆最小値を算出。\n",
    "#グラフ描画のメッシュを定義\n",
    "x_min, x_max = data_array[:, 0].min() - 1, data_array[:, 0].max() + 1\n",
    "y_min, y_max = data_array[:, 1].min() - 1, data_array[:, 1].max() + 1\n",
    "xx, yy = np.meshgrid(np.arange(x_min, x_max, plot_step),\n",
    "                      np.arange(y_min, y_max, plot_step))\n",
    "\n",
    "#各メッシュ上での決定木による分類を計算\n",
    "Z = clf.predict(np.c_[xx.ravel(), yy.ravel()])\n",
    "Z = Z.reshape(xx.shape)\n",
    "\n",
    "#決定木による分類を等高線フィールドプロットでプロット\n",
    "cs = plt.contour(xx, yy, Z, cmap=plt.cm.Paired)\n",
    "plt.xlabel('x')\n",
    "plt.ylabel('y')\n",
    "plt.axis(\"tight\")\n",
    "\n",
    "#教師データも重ねてプロット\n",
    "for i, color in zip(range(n_classes), plot_colors):\n",
    "    idx = np.where(class_array == i)\n",
    "    plt.scatter(data_array[idx, 0], data_array[idx, 1], c=color, label=['a','b'],cmap=plt.cm.Paired)\n",
    "plt.axis(\"tight\")\n",
    "\n",
    "plt.show()"
   ]
  },
  {
   "cell_type": "code",
   "execution_count": 11,
   "metadata": {
    "collapsed": false
   },
   "outputs": [
    {
     "ename": "AttributeError",
     "evalue": "'NoneType' object has no attribute 'close'",
     "output_type": "error",
     "traceback": [
      "\u001b[0;31m---------------------------------------------------------------------------\u001b[0m",
      "\u001b[0;31mAttributeError\u001b[0m                            Traceback (most recent call last)",
      "\u001b[0;32m<ipython-input-11-1e0873e4bdf2>\u001b[0m in \u001b[0;36m<module>\u001b[0;34m()\u001b[0m\n\u001b[1;32m      5\u001b[0m     \u001b[0mf\u001b[0m \u001b[1;33m=\u001b[0m \u001b[0mtree\u001b[0m\u001b[1;33m.\u001b[0m\u001b[0mexport_graphviz\u001b[0m\u001b[1;33m(\u001b[0m\u001b[0mclf\u001b[0m\u001b[1;33m,\u001b[0m \u001b[0mout_file\u001b[0m\u001b[1;33m=\u001b[0m\u001b[0mf\u001b[0m\u001b[1;33m)\u001b[0m\u001b[1;33m\u001b[0m\u001b[0m\n\u001b[1;32m      6\u001b[0m \u001b[1;33m\u001b[0m\u001b[0m\n\u001b[0;32m----> 7\u001b[0;31m \u001b[0mf\u001b[0m\u001b[1;33m.\u001b[0m\u001b[0mclose\u001b[0m\u001b[1;33m(\u001b[0m\u001b[1;33m)\u001b[0m\u001b[1;33m\u001b[0m\u001b[0m\n\u001b[0m",
      "\u001b[0;31mAttributeError\u001b[0m: 'NoneType' object has no attribute 'close'"
     ]
    }
   ],
   "source": [
    "###決定木の中身を表示するためのdotファイルの出力\n",
    "from sklearn.externals.six import StringIO\n",
    "\n",
    "with open(\"xor_simple.dot\", 'w') as f:\n",
    "    f = tree.export_graphviz(clf, out_file=f)\n",
    "\n",
    "f.close()"
   ]
  },
  {
   "cell_type": "code",
   "execution_count": null,
   "metadata": {
    "collapsed": true
   },
   "outputs": [],
   "source": []
  }
 ],
 "metadata": {
  "kernelspec": {
   "display_name": "Python 3",
   "language": "python",
   "name": "python3"
  },
  "language_info": {
   "codemirror_mode": {
    "name": "ipython",
    "version": 3
   },
   "file_extension": ".py",
   "mimetype": "text/x-python",
   "name": "python",
   "nbconvert_exporter": "python",
   "pygments_lexer": "ipython3",
   "version": "3.5.2"
  }
 },
 "nbformat": 4,
 "nbformat_minor": 1
}
